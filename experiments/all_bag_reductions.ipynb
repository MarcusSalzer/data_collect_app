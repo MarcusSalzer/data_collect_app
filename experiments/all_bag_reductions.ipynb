{
 "cells": [
  {
   "cell_type": "code",
   "execution_count": null,
   "id": "e4d93405",
   "metadata": {},
   "outputs": [],
   "source": [
    "import itertools\n",
    "from importlib import reload\n",
    "\n",
    "import numpy as np\n",
    "import polars as pl\n",
    "from numpy.typing import NDArray\n",
    "\n",
    "from src import data_util, util_agg\n",
    "from src import evt_embeddings as ee\n",
    "from src import plotlyplot as pp\n",
    "\n",
    "reload(pp)\n",
    "# reload(util_agg)\n",
    "\n",
    "pp.set_plotly_template()\n",
    "\n",
    "\n",
    "data_conf = data_util.load_config()\n",
    "print(data_conf)\n",
    "df, evt_types = data_util.load_data(data_conf)\n",
    "evt_counts = data_util.unique_counts(df, col=\"type_name\")\n",
    "print(evt_counts)\n",
    "display(df.tail())\n",
    "evt_counts = data_util.unique_counts(df, col=\"type_name\")\n",
    "\n",
    "df_evt_agg, df_topk = util_agg.agg_duration_per_day(df)\n",
    "X = df_evt_agg.select(evt_types).to_numpy()\n"
   ]
  },
  {
   "cell_type": "markdown",
   "id": "0facd324",
   "metadata": {},
   "source": [
    "## Try all variants of embedding pipeline\n"
   ]
  },
  {
   "cell_type": "code",
   "execution_count": null,
   "id": "12d808ac",
   "metadata": {},
   "outputs": [],
   "source": [
    "reload(ee)\n",
    "\n",
    "variants = ([\"std\", \"tfidf\"], [\"pca\", \"umap\", \"isomap\", \"lle\", \"tsne\"])\n",
    "\n",
    "\n",
    "pipes_evt = {\n",
    "    f\"{inp_trans}_{red}\": ee.make_embedding_pipe(inp_trans, red, transp_between=True)  # pyright: ignore[reportArgumentType]\n",
    "    for inp_trans, red in itertools.product(*variants)\n",
    "}\n",
    "\n",
    "print(*pipes_evt, sep=\"\\n\")"
   ]
  },
  {
   "cell_type": "code",
   "execution_count": null,
   "id": "07a45062",
   "metadata": {},
   "outputs": [],
   "source": [
    "evt_embs: dict[str, NDArray] = {}\n",
    "\n",
    "for name, pipe in pipes_evt.items():\n",
    "    evt_embs[name] = pipe.fit_transform(X)\n",
    "    print(f\"{name}. embs:{evt_embs[name].shape}\")\n",
    "\n",
    "    pp.scatter_embs(evt_embs[name], texts=evt_types).update_layout(\n",
    "        title=f\"Event embedding ({name})\"\n",
    "    ).show()"
   ]
  },
  {
   "cell_type": "markdown",
   "id": "04ece593",
   "metadata": {},
   "source": [
    "## Subjective evaluation\n"
   ]
  },
  {
   "cell_type": "code",
   "execution_count": null,
   "id": "0fa8eb4b",
   "metadata": {},
   "outputs": [],
   "source": [
    "# some things should be more similar than others are\n",
    "# can make triplets (anchor, positive, negative)\n",
    "# and check if the computed ranking matches\n",
    "reload(ee)\n",
    "\n",
    "COMP_METRIC = \"cosine\"\n",
    "# COMP_METRIC = \"L2\"\n",
    "acc_comp_metric = {}\n",
    "try:\n",
    "    subj_triples = pl.read_csv(\n",
    "        \"aux_data/subjective_triples.csv\",\n",
    "        has_header=False,\n",
    "        new_columns=[\"anchor\", \"p\", \"n\"],\n",
    "    )\n",
    "    display(subj_triples.head())\n",
    "\n",
    "    print(f\"evaluating on {len(subj_triples)} triples\\n\")\n",
    "    for name, embs in evt_embs.items():\n",
    "        print(name.ljust(20), end=\"\")\n",
    "        acc = ee.eval_subj(\n",
    "            embs,\n",
    "            evt_types,\n",
    "            subj_triples,\n",
    "            (\"cosine\", \"L2\"),\n",
    "            verbose=True,\n",
    "            n_bootstrap=5,\n",
    "        )\n",
    "        acc_comp = acc[COMP_METRIC]\n",
    "        acc_comp_metric[name] = (\n",
    "            acc_comp.mean() if isinstance(acc_comp, np.ndarray) else acc_comp\n",
    "        )\n",
    "except FileNotFoundError as err:\n",
    "    print(err)\n",
    "winner_name, winner_acc = sorted(acc_comp_metric.items(), key=lambda a: -a[1])[0]\n",
    "print(f\"Winner ({COMP_METRIC}): {winner_name} ({winner_acc:.0%})\")\n",
    "\n",
    "pp.scatter_embs(evt_embs[winner_name], texts=evt_types).update_layout(\n",
    "    title=f\"Event embedding ({winner_name})\"\n",
    ").show()"
   ]
  },
  {
   "cell_type": "code",
   "execution_count": null,
   "id": "7a5199ff",
   "metadata": {},
   "outputs": [],
   "source": [
    "reload(ee)\n",
    "reload(pp)\n",
    "MODE = \"std_isomap\"\n",
    "# MODE = \"std_lle\"\n",
    "\n",
    "day_embs = ee.day_linear_comb(X, evt_embs[MODE])\n",
    "df_cal = util_agg.add_week_calendar_cols(df_evt_agg)\n",
    "df_cal = df_cal.with_columns(pl.Series(\"color\", pp.vecs2color(day_embs)))\n",
    "evt_colors = dict(zip(evt_types, pp.vecs2color(evt_embs[MODE]), strict=True))\n",
    "\n",
    "# ignore_show = {\"br\", \"brush teeth\", \"shower\", \"xjobb\", \"other\", \"laundry\", \"cleaning\"}\n",
    "\n",
    "# show_evts = set(e for e, c in evt_counts.items() if c > 50 and e not in ignore_show)\n",
    "show_evts = set(\"walk,bike,lunch,dinner,driving,work,project,study\".split(\",\"))\n",
    "\n",
    "show_names = [t if t in show_evts else \"\" for t in evt_types]\n",
    "show_mask = [t in show_evts for t in evt_types]\n",
    "\n",
    "reload(pp)\n",
    "fig = pp.cal_and_embs(\n",
    "    df_cal,\n",
    "    show_names,\n",
    "    evt_embs[MODE],\n",
    "    filter_expr=pl.col(\"date\").dt.week().is_between(16, 34),\n",
    "    width=700,\n",
    "    mode=MODE,\n",
    ")\n",
    "fig.show(config={\"displayModeBar\": False})\n",
    "fig.write_image(f\"media/cal_emb_{MODE}.png\", scale=2.0)"
   ]
  },
  {
   "cell_type": "code",
   "execution_count": null,
   "id": "41dfaa35",
   "metadata": {},
   "outputs": [],
   "source": [
    "reload(pp)\n",
    "pp.tmp([(k, c) for k, c in evt_colors.items()][40:45])"
   ]
  }
 ],
 "metadata": {
  "kernelspec": {
   "display_name": "mango",
   "language": "python",
   "name": "python3"
  },
  "language_info": {
   "codemirror_mode": {
    "name": "ipython",
    "version": 3
   },
   "file_extension": ".py",
   "mimetype": "text/x-python",
   "name": "python",
   "nbconvert_exporter": "python",
   "pygments_lexer": "ipython3",
   "version": "3.13.3"
  }
 },
 "nbformat": 4,
 "nbformat_minor": 5
}
