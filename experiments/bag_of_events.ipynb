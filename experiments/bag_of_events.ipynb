{
 "cells": [
  {
   "cell_type": "code",
   "execution_count": null,
   "id": "6641915a",
   "metadata": {},
   "outputs": [],
   "source": [
    "import datetime\n",
    "from importlib import reload\n",
    "from itertools import product\n",
    "from pathlib import Path\n",
    "\n",
    "import numpy as np\n",
    "import polars as pl\n",
    "from numpy.typing import NDArray\n",
    "\n",
    "from src import data_util\n",
    "from src import evt_embeddings as ee\n",
    "from src import plotlyplot as pp\n",
    "from src import util_agg as util\n",
    "\n",
    "reload(pp)\n",
    "reload(util)\n",
    "reload(data_util)\n",
    "\n",
    "pp.set_plotly_template()\n",
    "\n",
    "\n",
    "data_conf = data_util.load_config()\n",
    "print(data_conf)\n",
    "df, evt_types = data_util.load_data(data_conf)\n",
    "evt_counts = data_util.unique_counts(df, col=\"type_name\")\n",
    "print(evt_counts)\n",
    "display(df.tail())\n"
   ]
  },
  {
   "cell_type": "code",
   "execution_count": null,
   "id": "ab198206",
   "metadata": {},
   "outputs": [],
   "source": [
    "all_dates: list[datetime.date] = df[\"date\"].unique().to_list()\n",
    "print(f\"{len(all_dates) = } | {all_dates = }\")\n"
   ]
  },
  {
   "cell_type": "code",
   "execution_count": null,
   "id": "02c0d486",
   "metadata": {},
   "outputs": [],
   "source": [
    "df_agg, df_topk = util.agg_duration_per_day(df)\n",
    "display(df_agg.head(3))\n",
    "display(df_topk.head(3))\n",
    "\n",
    "# remember agg df\n",
    "fp = Path(\"tmp_data/agg_day.parquet\")\n",
    "fp.parent.mkdir(exist_ok=True)\n",
    "df_agg.write_parquet(fp)\n"
   ]
  },
  {
   "cell_type": "code",
   "execution_count": null,
   "id": "f4a25db1",
   "metadata": {},
   "outputs": [],
   "source": [
    "reload(ee)\n",
    "\n",
    "variants = ([\"std\", \"tfidf\"], [\"pca\", \"umap\"])\n",
    "\n",
    "pipes_day = {\n",
    "    f\"{inp_trans}_{red}\": ee.make_embedding_pipe(inp_trans, red)  # pyright: ignore[reportArgumentType]\n",
    "    for inp_trans, red in product(*variants)\n",
    "}\n",
    "pipes_evt = {\n",
    "    f\"{inp_trans}_{red}\": ee.make_embedding_pipe(inp_trans, red, transp_between=True)  # pyright: ignore[reportArgumentType]\n",
    "    for inp_trans, red in product(*variants)\n",
    "}\n",
    "\n",
    "print(*pipes_evt, sep=\"\\n\")"
   ]
  },
  {
   "cell_type": "markdown",
   "id": "d9e75192",
   "metadata": {},
   "source": [
    "## Day embeddings\n"
   ]
  },
  {
   "cell_type": "code",
   "execution_count": null,
   "id": "022da821",
   "metadata": {},
   "outputs": [],
   "source": [
    "assert df_agg[\"date\"].is_sorted()\n",
    "X = df_agg.drop(\"date\").to_numpy()\n",
    "\n",
    "day_embs: dict[str, NDArray] = {}\n",
    "for name, pipe in pipes_day.items():\n",
    "    day_embs[name] = pipe.fit_transform(X)\n",
    "    pp.scatter_embs(\n",
    "        day_embs[name],\n",
    "        [str(d) for d in df_agg[\"date\"] + \": \" + df_topk[\"topk\"].list.join(\", \")],\n",
    "    ).update_layout(title=f\"Day embedding ({name})\").show()"
   ]
  },
  {
   "cell_type": "markdown",
   "id": "d7a090d1",
   "metadata": {},
   "source": [
    "<!-- ## Event embeddings -->\n"
   ]
  },
  {
   "cell_type": "markdown",
   "id": "abacae7e",
   "metadata": {},
   "source": [
    "## Event embeddings\n"
   ]
  },
  {
   "cell_type": "code",
   "execution_count": null,
   "id": "550db0c6",
   "metadata": {},
   "outputs": [],
   "source": [
    "evt_embs: dict[str, NDArray] = {}\n",
    "\n",
    "for name, pipe in pipes_evt.items():\n",
    "    evt_embs[name] = pipe.fit_transform(X)\n",
    "    print(f\"{name}. embs:{evt_embs[name].shape}\")\n",
    "\n",
    "    pp.scatter_embs(evt_embs[name], texts=df_agg.columns[1:]).update_layout(\n",
    "        title=f\"Event embedding ({name})\"\n",
    "    ).show()"
   ]
  },
  {
   "cell_type": "markdown",
   "id": "ea04dd52",
   "metadata": {},
   "source": [
    "## Load CBOW embeddings\n"
   ]
  },
  {
   "cell_type": "code",
   "execution_count": null,
   "id": "32125922",
   "metadata": {},
   "outputs": [],
   "source": [
    "with np.load(Path(\"tmp_data/embs_cbow.npz\")) as arrdata:\n",
    "    vocab_cbow = arrdata[\"vocab\"].tolist()\n",
    "    embs_cbow = arrdata[\"embs\"]\n",
    "\n",
    "assert vocab_cbow == evt_types, \"expects same vocab\"\n",
    "\n",
    "evt_embs.update(\n",
    "    {\n",
    "        \"cbow_pca\": ee.make_embedding_pipe(\"std\", \"pca\").fit_transform(embs_cbow),\n",
    "        \"cbow_umap\": ee.make_embedding_pipe(\"std\", \"umap\").fit_transform(embs_cbow),\n",
    "    }\n",
    ")\n",
    "for name, emb in evt_embs.items():\n",
    "    if name.startswith(\"cbow\"):\n",
    "        pp.scatter_embs(emb, texts=vocab_cbow).update_layout(\n",
    "            title=f\"Event embedding (CBOW, {name})\"\n",
    "        ).show()"
   ]
  },
  {
   "cell_type": "code",
   "execution_count": null,
   "id": "50408e32",
   "metadata": {},
   "outputs": [],
   "source": [
    "# save all embeddings\n",
    "np.savez(\n",
    "    \"tmp_data/evt_embs_all.npz\", allow_pickle=True, evt_types=evt_types, **evt_embs\n",
    ")\n",
    "np.savez(\n",
    "    \"tmp_data/day_embs_all.npz\",\n",
    "    allow_pickle=True,\n",
    "    dates=[d.isoformat() for d in all_dates],\n",
    "    **day_embs,\n",
    ")"
   ]
  },
  {
   "cell_type": "markdown",
   "id": "4b3a6c91",
   "metadata": {},
   "source": [
    "# calendar like\n"
   ]
  },
  {
   "cell_type": "code",
   "execution_count": null,
   "id": "3fed0382",
   "metadata": {},
   "outputs": [],
   "source": [
    "MODE = \"tfidf_umap\"\n",
    "MODE = \"tfidf_pca\"\n",
    "\n",
    "\n",
    "print(f\"day embeddings: {day_embs.keys()}\")\n",
    "\n",
    "df_cal = util.add_week_calendar_cols(df_agg)\n",
    "df_cal = df_cal.with_columns(pl.Series(\"color\", pp.vecs2color(day_embs[MODE])))\n",
    "reload(pp)\n",
    "\n",
    "pp.weeks_cal_grid(\n",
    "    df_cal,\n",
    "    df_topk,\n",
    "    width=280,\n",
    "    filter_expr=pl.col(\"date\").dt.week().is_between(19, 31),\n",
    ").update_layout(title=f\"Calendar ({MODE} colors)\", margin_t=40).show(\n",
    "    config={\"displayModeBar\": False}\n",
    ")"
   ]
  },
  {
   "cell_type": "markdown",
   "id": "cd31370f",
   "metadata": {},
   "source": [
    "## decompose to event colors\n",
    "\n",
    "- We aggregate $n$ events, giving $w^{(k)}_1,...,w^{(k)}_n$ for day $k$.\n",
    "- Each day we embed $\\mathbf{w}^{(k)}\\to \\mathbf{y}^{(k)}\\in\\mathbb{R}^{d}$.\n",
    "- Consider it as a linear combination $\\mathbf{y}^{(k)} = \\sum_i^n w^{(k)}_i\\mathbf{x}_i$, where $\\mathbf{x}_i$ represents event $i$.\n",
    "- each day has $d$ equations, and $n\\cdot d$ unknowns.\n",
    "- There is a optimal LS solution as long as we have $>n$ days of data\n",
    "\n",
    "At the same time, since PCA is linear we don't need to do that, we can just transpose the data\n"
   ]
  },
  {
   "cell_type": "markdown",
   "id": "df9e7648",
   "metadata": {},
   "source": [
    "## Long term overview\n"
   ]
  },
  {
   "cell_type": "code",
   "execution_count": null,
   "id": "17bbe4ef",
   "metadata": {},
   "outputs": [],
   "source": [
    "from datetime import timedelta\n",
    "\n",
    "pp.date_ts_agg_events(\n",
    "    df_agg=util.agg_durations_periodic(df_agg, evt_types, timedelta(weeks=4)),\n",
    "    # type names are all cols except first (\"date\")\n",
    "    evt_colors=dict(\n",
    "        zip(df_agg.columns[1:], pp.vecs2color(evt_embs[MODE]), strict=True)\n",
    "    ),\n",
    "    # most common overall\n",
    "    show_types=list(evt_counts.keys())[:10],\n",
    ").show()"
   ]
  },
  {
   "cell_type": "markdown",
   "id": "b42bd823",
   "metadata": {},
   "source": [
    "## Similarity search\n"
   ]
  },
  {
   "cell_type": "code",
   "execution_count": null,
   "id": "7fd4731b",
   "metadata": {},
   "outputs": [],
   "source": [
    "reload(ee)\n",
    "\n",
    "top_events = list(evt_counts.keys())[:20]\n",
    "_ = ee.find_all_closest(\n",
    "    evt_embs[MODE],\n",
    "    df_agg.columns[1:],\n",
    "    top_events,\n",
    "    metric=\"cosine\",\n",
    "    top_count=4,\n",
    "    verbose=True,\n",
    ")\n"
   ]
  },
  {
   "cell_type": "markdown",
   "id": "5e06841d",
   "metadata": {},
   "source": [
    "# subjective evaluation\n"
   ]
  },
  {
   "cell_type": "code",
   "execution_count": null,
   "id": "86d4864d",
   "metadata": {},
   "outputs": [],
   "source": [
    "# some things should be more similar than others are\n",
    "# can make triplets (anchor, positive, negative)\n",
    "# and check if the computed ranking matches\n",
    "reload(ee)\n",
    "try:\n",
    "    subj_triples = pl.read_csv(\n",
    "        \"aux_data/subjective_triples.csv\",\n",
    "        has_header=False,\n",
    "        new_columns=[\"anchor\", \"p\", \"n\"],\n",
    "    )\n",
    "    display(subj_triples.head())\n",
    "\n",
    "    print(f\"evaluating on {len(subj_triples)} triples\\n\")\n",
    "    for name, embs in evt_embs.items():\n",
    "        print(name.ljust(15), end=\"\")\n",
    "        acc = ee.eval_subj(\n",
    "            embs,\n",
    "            df_agg.columns[1:],\n",
    "            subj_triples,\n",
    "            (\"cosine\", \"L2\"),\n",
    "            verbose=True,\n",
    "            n_bootstrap=5,\n",
    "        )\n",
    "        # print(acc)\n",
    "except FileNotFoundError as err:\n",
    "    print(err)"
   ]
  }
 ],
 "metadata": {
  "kernelspec": {
   "display_name": "mango",
   "language": "python",
   "name": "python3"
  },
  "language_info": {
   "codemirror_mode": {
    "name": "ipython",
    "version": 3
   },
   "file_extension": ".py",
   "mimetype": "text/x-python",
   "name": "python",
   "nbconvert_exporter": "python",
   "pygments_lexer": "ipython3",
   "version": "3.13.3"
  }
 },
 "nbformat": 4,
 "nbformat_minor": 5
}
