{
 "cells": [
  {
   "cell_type": "code",
   "execution_count": null,
   "id": "2aa2f488",
   "metadata": {},
   "outputs": [],
   "source": [
    "import sys\n",
    "from importlib import reload\n",
    "from pathlib import Path\n",
    "\n",
    "import lightgbm as lgb\n",
    "import numpy as np\n",
    "import polars as pl\n",
    "from sklearn.metrics import confusion_matrix\n",
    "\n",
    "sys.path.append(\"src\")\n",
    "import evt_embeddings as ee\n",
    "import plotlyplot as pp\n",
    "import util_agg\n",
    "\n",
    "pp.set_plotly_template()\n",
    "\n",
    "## load day-vectors\n",
    "fp = Path(\"tmp_data/agg_day.parquet\")\n",
    "df_evt_agg = pl.read_parquet(fp)\n",
    "evt_types = df_evt_agg.columns[1:]\n",
    "display(df_evt_agg.head())"
   ]
  },
  {
   "cell_type": "code",
   "execution_count": null,
   "id": "12b46042",
   "metadata": {},
   "outputs": [],
   "source": [
    "df_health = pl.read_csv(\n",
    "    \"aux_data/health_daily.csv\", infer_schema_length=None, try_parse_dates=True\n",
    ")\n",
    "\n",
    "df = df_evt_agg.join(df_health, on=\"date\", how=\"left\", suffix=\"_HD\")"
   ]
  },
  {
   "cell_type": "code",
   "execution_count": null,
   "id": "66a8c45a",
   "metadata": {},
   "outputs": [],
   "source": [
    "reload(ee)\n",
    "reload(util_agg)\n",
    "\n",
    "TARGET = \"c\"\n",
    "data = util_agg.DailyEvtAggDataset(df, features=evt_types, seed=1337)\n",
    "print(data)\n",
    "\n",
    "pipes_day = {v: ee.make_embedding_pipe(v, None) for v in [\"std\", \"tfidf\", \"tfidf+std\"]}  # pyright: ignore[reportArgumentType]\n",
    "splits = data.preprocessed_splits(pipes_day[\"tfidf\"], TARGET)\n",
    "for s, (x, y) in splits.items():\n",
    "    print(f\"{s}:  {x.shape}, {y.shape}\")\n",
    "print(splits[\"train\"][0].mean())\n"
   ]
  },
  {
   "cell_type": "code",
   "execution_count": null,
   "id": "b57b227b",
   "metadata": {},
   "outputs": [],
   "source": [
    "# The dataset is unbalanced. To give the model a reasonable\n",
    "# chance to outperform simply predicting the label mode\n",
    "# we can use class weights, based on label frequency\n",
    "# or, use the class_weight = \"balanced\" in LGBM.\n",
    "\n",
    "ytrain = splits[\"train\"][1]\n",
    "uc = np.unique_counts(ytrain)\n",
    "clw = {la.item(): float(1 / c) for la, c in zip(uc.values, uc.counts)}\n",
    "print(clw)"
   ]
  },
  {
   "cell_type": "markdown",
   "id": "d036c909",
   "metadata": {},
   "source": [
    "## LGBM\n"
   ]
  },
  {
   "cell_type": "code",
   "execution_count": null,
   "id": "daec458a",
   "metadata": {},
   "outputs": [],
   "source": [
    "import warnings\n",
    "from typing import Any\n",
    "\n",
    "warnings.filterwarnings(\"ignore\", category=UserWarning)\n",
    "# prediction task\n",
    "params: dict[str, Any] = {\n",
    "    \"num_leaves\": 2,\n",
    "    \"max_depth\": 1,\n",
    "    # \"reg_alpha\": 0.9,\n",
    "    # \"reg_lambda\": 0.9,\n",
    "    \"n_estimators\": 100,\n",
    "    # \"class_weight\": \"balanced\",\n",
    "}\n",
    "clf = lgb.LGBMClassifier(force_row_wise=True, verbosity=-1, **params)  # pyright: ignore[reportGeneralTypeIssues]\n",
    "clf.fit(*splits[\"train\"])\n",
    "\n",
    "# preds = {k: clf.predict(splits[k][0]) for k in splits}  # pyright: ignore[reportAttributeAccessIssue]\n",
    "\n",
    "for k in splits:\n",
    "    acc = clf.score(*splits[k])  # pyright: ignore[reportAttributeAccessIssue]\n",
    "    print(f\"score({k})= {acc:.1%}\")"
   ]
  },
  {
   "cell_type": "code",
   "execution_count": null,
   "id": "2e8340ac",
   "metadata": {},
   "outputs": [],
   "source": [
    "pred = {k: clf.predict(Xk) for k, (Xk, _) in splits.items()}\n",
    "ytrue = {k: Yk for k, (_, Yk) in splits.items()}\n"
   ]
  },
  {
   "cell_type": "code",
   "execution_count": null,
   "id": "d97fe920",
   "metadata": {},
   "outputs": [],
   "source": [
    "reload(pp)\n",
    "for k in splits.keys():\n",
    "    pk, yk = pred[k], ytrue[k]\n",
    "    print(\n",
    "        f\"{k} acc: {np.average(pk == yk):.1%}\",\n",
    "    )\n",
    "    cm = confusion_matrix(yk, pk)  # type: ignore\n",
    "    pp.heatmap(cm, logscale=False).show()"
   ]
  }
 ],
 "metadata": {
  "kernelspec": {
   "display_name": "mango",
   "language": "python",
   "name": "python3"
  },
  "language_info": {
   "codemirror_mode": {
    "name": "ipython",
    "version": 3
   },
   "file_extension": ".py",
   "mimetype": "text/x-python",
   "name": "python",
   "nbconvert_exporter": "python",
   "pygments_lexer": "ipython3",
   "version": "3.13.3"
  }
 },
 "nbformat": 4,
 "nbformat_minor": 5
}
