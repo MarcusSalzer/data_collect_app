{
 "cells": [
  {
   "cell_type": "code",
   "execution_count": null,
   "id": "53301369",
   "metadata": {},
   "outputs": [],
   "source": [
    "from importlib import reload\n",
    "from pathlib import Path\n",
    "\n",
    "import numpy as np\n",
    "import polars as pl\n",
    "from plotly import graph_objects as go\n",
    "\n",
    "from src import data_util\n",
    "from src import plotlyplot as pp\n",
    "from src.evt_seq import torch_model as tm\n",
    "from src.evt_seq import util\n",
    "\n",
    "reload(pp)\n",
    "reload(data_util)\n",
    "\n",
    "pp.set_plotly_template()\n",
    "\n",
    "data_conf = data_util.load_config()\n",
    "print(data_conf)\n",
    "df, evt_types = data_util.load_data(data_conf)\n",
    "\n",
    "# all event types, sorted by frequency\n",
    "evt_types_w_count: list[tuple[str, int]] = list(\n",
    "    df.group_by(\"type_name\").agg(pl.len()).sort(\"len\", descending=True).iter_rows()\n",
    ")\n",
    "\n",
    "display(df.tail())\n"
   ]
  },
  {
   "cell_type": "code",
   "execution_count": null,
   "id": "1ac5196f",
   "metadata": {},
   "outputs": [],
   "source": [
    "reload(util)\n",
    "\n",
    "data = util.EvtSeqData(\n",
    "    df,\n",
    "    max_gap_mins=15,\n",
    "    blksz=5,\n",
    "    seed=1337,\n",
    "    vocab=evt_types,\n",
    ")\n",
    "\n",
    "splits = data.as_integers()\n",
    "\n",
    "reload(tm)\n",
    "dsets = {k: tm.EventCBOWDataset(s, data.blksz) for k, s in splits.items()}\n",
    "for k, d in dsets.items():\n",
    "    print(f\"{k}: {d}\")\n"
   ]
  },
  {
   "cell_type": "code",
   "execution_count": null,
   "id": "ea75ffc2",
   "metadata": {},
   "outputs": [],
   "source": [
    "c = len(data.vocab)\n",
    "print(f\"Expected worst CE loss? {c=} -> {np.log(c)=:.3f}\")"
   ]
  },
  {
   "cell_type": "markdown",
   "id": "2d0de1d3",
   "metadata": {},
   "source": [
    "## Training\n"
   ]
  },
  {
   "cell_type": "code",
   "execution_count": null,
   "id": "88099363",
   "metadata": {},
   "outputs": [],
   "source": [
    "from torch.utils.data import DataLoader\n",
    "\n",
    "model = tm.CBOWFFModel(len(data.vocab), emb_dim=3, block_size=data.blksz)\n",
    "\n",
    "loss_train, loss_val, lr_hist = tm.train_cbow_ff(\n",
    "    model,\n",
    "    DataLoader(dsets[\"train\"], batch_size=128),\n",
    "    DataLoader(dsets[\"val\"], batch_size=len(dsets[\"val\"])),  # all at once\n",
    "    label_smoothing=0.01,\n",
    "    start_lr=1e-3,\n",
    "    lrs_patience=10,\n",
    "    stop_patience=30,\n",
    ")\n",
    "\n",
    "go.Figure(\n",
    "    [\n",
    "        go.Scatter(y=loss_train, name=\"train\"),\n",
    "        go.Scatter(y=loss_val, name=\"val\"),\n",
    "    ]\n",
    ").show()\n",
    "go.Figure(\n",
    "    go.Scatter(y=lr_hist, name=\"LR\"),\n",
    ")"
   ]
  },
  {
   "cell_type": "code",
   "execution_count": null,
   "id": "6d7c138e",
   "metadata": {},
   "outputs": [],
   "source": [
    "# extract learned embeddings from model\n",
    "embs = model.emb.weight.cpu().detach().numpy()\n",
    "print(f\"{embs.shape=}\")\n",
    "fp = Path(\"tmp_data/embs_cbow.npz\")\n",
    "np.savez(fp, embs=embs, vocab=data.vocab)"
   ]
  }
 ],
 "metadata": {
  "kernelspec": {
   "display_name": "mango",
   "language": "python",
   "name": "python3"
  },
  "language_info": {
   "codemirror_mode": {
    "name": "ipython",
    "version": 3
   },
   "file_extension": ".py",
   "mimetype": "text/x-python",
   "name": "python",
   "nbconvert_exporter": "python",
   "pygments_lexer": "ipython3",
   "version": "3.13.3"
  }
 },
 "nbformat": 4,
 "nbformat_minor": 5
}
